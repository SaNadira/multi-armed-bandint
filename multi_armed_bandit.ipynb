{
  "cells": [
    {
      "cell_type": "markdown",
      "metadata": {
        "id": "view-in-github",
        "colab_type": "text"
      },
      "source": [
        "<a href=\"https://colab.research.google.com/github/SaNadira/multi-armed-bandint/blob/main/multi_armed_bandit.ipynb\" target=\"_parent\"><img src=\"https://colab.research.google.com/assets/colab-badge.svg\" alt=\"Open In Colab\"/></a>"
      ]
    },
    {
      "cell_type": "markdown",
      "id": "f53043ef-72ce-4d79-a826-2f0ba030a4d9",
      "metadata": {
        "id": "f53043ef-72ce-4d79-a826-2f0ba030a4d9"
      },
      "source": [
        "## Imports"
      ]
    },
    {
      "cell_type": "code",
      "execution_count": null,
      "id": "9b0e7262-a1b2-4009-97b6-e1d8c6dffb01",
      "metadata": {
        "tags": [],
        "id": "9b0e7262-a1b2-4009-97b6-e1d8c6dffb01"
      },
      "outputs": [],
      "source": [
        "import math\n",
        "import random\n",
        "from abc import ABC, abstractmethod\n",
        "from typing import Dict\n",
        "\n",
        "import matplotlib.pyplot as plt\n",
        "from scipy.stats import uniform, norm"
      ]
    },
    {
      "cell_type": "markdown",
      "id": "3a436fa3-42c5-448f-816f-5fed31435ea4",
      "metadata": {
        "id": "3a436fa3-42c5-448f-816f-5fed31435ea4"
      },
      "source": [
        "## Configs"
      ]
    },
    {
      "cell_type": "code",
      "execution_count": null,
      "id": "931a2a19-e90e-428b-8f39-3f8aef7a6a7a",
      "metadata": {
        "tags": [],
        "id": "931a2a19-e90e-428b-8f39-3f8aef7a6a7a"
      },
      "outputs": [],
      "source": [
        "N_ARMS = 20\n",
        "INITIAL_OBSERVATION_PER_ACTION = 10\n",
        "EPSILON = 0.4\n",
        "LEARNING_RATE = 0.001\n",
        "NUMBER_OF_ITERATIONS = 1000000\n",
        "\n",
        "# Configs for UCB\n",
        "UCB_C = math.sqrt(2)"
      ]
    },
    {
      "cell_type": "markdown",
      "id": "22c47870-eef5-4aee-a36d-706d203aa5dd",
      "metadata": {
        "id": "22c47870-eef5-4aee-a36d-706d203aa5dd"
      },
      "source": [
        "## Classes"
      ]
    },
    {
      "cell_type": "markdown",
      "id": "4091b440-5934-4643-b7aa-614791430692",
      "metadata": {
        "id": "4091b440-5934-4643-b7aa-614791430692"
      },
      "source": [
        "### Environment"
      ]
    },
    {
      "cell_type": "code",
      "execution_count": null,
      "id": "35bd4e78-41e4-4483-8d45-7c15a89a2ff1",
      "metadata": {
        "tags": [],
        "id": "35bd4e78-41e4-4483-8d45-7c15a89a2ff1"
      },
      "outputs": [],
      "source": [
        "class MultiArmedBandit:\n",
        "    def __init__(self, n_arms: int):\n",
        "        self.n_arms = n_arms\n",
        "        self.parameters = dict()\n",
        "        for i in range(n_arms):\n",
        "            mu = (uniform().rvs() * 2 - 1) / 10\n",
        "            std = uniform().rvs() * 10\n",
        "            self.parameters[i] = {\n",
        "                \"mu\": mu,\n",
        "                \"std\": std,\n",
        "                \"generator\": norm(mu, std),\n",
        "            }\n",
        "\n",
        "        self.best_mu = max([x[\"mu\"] for x in self.parameters.values()])\n",
        "\n",
        "    def get_reward(self, action: int) -> float:\n",
        "        assert action in list(range(self.n_arms)), print(action)\n",
        "        return self.parameters[action][\"generator\"].rvs()\n",
        "\n",
        "    def get_regret(self, action: int) -> float:\n",
        "        assert action in list(range(self.n_arms)), print(action)\n",
        "        return self.best_mu - self.parameters[action][\"mu\"]"
      ]
    },
    {
      "cell_type": "markdown",
      "id": "c2da9de2-54bd-4e4b-962d-b4949b20f7cf",
      "metadata": {
        "id": "c2da9de2-54bd-4e4b-962d-b4949b20f7cf"
      },
      "source": [
        "### Agents"
      ]
    },
    {
      "cell_type": "code",
      "execution_count": null,
      "id": "ee5d2711-9dab-4b7e-9b69-d15c92908d0d",
      "metadata": {
        "tags": [],
        "id": "ee5d2711-9dab-4b7e-9b69-d15c92908d0d"
      },
      "outputs": [],
      "source": [
        "class Agent(ABC):\n",
        "    def __init__(self, n_arms: int):\n",
        "        self.n_arms = n_arms\n",
        "        self.total_regret_histroy = []\n",
        "\n",
        "    @abstractmethod\n",
        "    def policy(self) -> int:\n",
        "        pass\n",
        "\n",
        "    @abstractmethod\n",
        "    def update(self, action: int, reward: float) -> None:\n",
        "        pass\n",
        "\n",
        "    def update_regret_history(self, regret: float) -> None:\n",
        "        if len(self.total_regret_histroy) == 0:\n",
        "            self.total_regret_histroy.append(regret)\n",
        "        else:\n",
        "            last_total_regret = self.total_regret_histroy[-1]\n",
        "            self.total_regret_histroy.append(\n",
        "                last_total_regret + regret\n",
        "            )"
      ]
    },
    {
      "cell_type": "code",
      "execution_count": null,
      "id": "33d756e4-0777-4e72-8d35-daf3a428a63b",
      "metadata": {
        "tags": [],
        "id": "33d756e4-0777-4e72-8d35-daf3a428a63b"
      },
      "outputs": [],
      "source": [
        "class GreedyAgent(Agent):\n",
        "    def __init__(\n",
        "        self,\n",
        "        n_arms: int,\n",
        "        initial_observation_per_action: int,\n",
        "    ):\n",
        "        super().__init__(n_arms=n_arms)\n",
        "        self.initial_observation_per_action = initial_observation_per_action\n",
        "\n",
        "        self.t = 0\n",
        "        self.q = {\n",
        "            action: {\n",
        "                \"count\": 0,\n",
        "                \"estimated_q_value\": 0,\n",
        "            } for action in range(n_arms)\n",
        "        }\n",
        "\n",
        "    def policy(self) -> int:\n",
        "        if self.t < self.initial_observation_per_action * self.n_arms:\n",
        "            action = int(self.t / self.initial_observation_per_action)\n",
        "            self.t += 1\n",
        "            return action\n",
        "        self.t += 1\n",
        "        return max(\n",
        "            list(self.q.keys()),\n",
        "            key=lambda x: self.q[x][\"estimated_q_value\"],\n",
        "        )\n",
        "\n",
        "    def update(self, action: int, reward: float) -> None:\n",
        "        assert action in list(self.q.keys())\n",
        "        current_count = self.q[action][\"count\"]\n",
        "        current_estimated_q_value = self.q[action][\"estimated_q_value\"]\n",
        "        current_reward_sum = current_count * current_estimated_q_value\n",
        "\n",
        "        new_estimated_q_value = (\n",
        "            (current_reward_sum + reward)\n",
        "            / (current_count + 1)\n",
        "        )\n",
        "        self.q[action][\"count\"] = current_count + 1\n",
        "        self.q[action][\"estimated_q_value\"] = new_estimated_q_value"
      ]
    },
    {
      "cell_type": "code",
      "execution_count": null,
      "id": "5f553881-e645-4336-9cda-1fba2e84002f",
      "metadata": {
        "tags": [],
        "id": "5f553881-e645-4336-9cda-1fba2e84002f"
      },
      "outputs": [],
      "source": [
        "class EpsilonGreedyAgent(GreedyAgent):\n",
        "    def __init__(\n",
        "        self,\n",
        "        n_arms: int,\n",
        "        initial_observation_per_action: int,\n",
        "        epsilon: float,\n",
        "    ):\n",
        "        super().__init__(\n",
        "            n_arms=n_arms,\n",
        "            initial_observation_per_action=initial_observation_per_action,\n",
        "        )\n",
        "\n",
        "        self.epsilon = epsilon\n",
        "        self.uniform_generator = uniform()\n",
        "\n",
        "    def policy(self) -> int:\n",
        "        best_action = super().policy()\n",
        "        if self.t < self.initial_observation_per_action * self.n_arms:\n",
        "            return best_action\n",
        "\n",
        "        random_number = self.uniform_generator.rvs()\n",
        "\n",
        "        if random_number > self.epsilon:\n",
        "            return best_action\n",
        "        else:\n",
        "            return random.choice(list(range(self.n_arms)))"
      ]
    },
    {
      "cell_type": "code",
      "execution_count": null,
      "id": "8381a22e-df15-4b02-ad0a-e4e50ec7d32d",
      "metadata": {
        "tags": [],
        "id": "8381a22e-df15-4b02-ad0a-e4e50ec7d32d"
      },
      "outputs": [],
      "source": [
        "class PolicyGradientAgent(Agent):\n",
        "    def __init__(\n",
        "        self,\n",
        "        n_arms: int,\n",
        "        lr: float,\n",
        "    ):\n",
        "        super().__init__(n_arms=n_arms)\n",
        "        self.lr = lr\n",
        "\n",
        "        self.h = {\n",
        "            x: 0 for x in range(n_arms)\n",
        "        }\n",
        "\n",
        "    @property\n",
        "    def pi(self) -> Dict[int, float]:\n",
        "        tmp_pi = {\n",
        "            action: math.exp(self.h[action])\n",
        "            for action in self.h.keys()\n",
        "        }\n",
        "        pi = dict()\n",
        "        value_sum = sum([x for x in tmp_pi.values()])\n",
        "        for action in tmp_pi.keys():\n",
        "            pi[action] = tmp_pi[action] / value_sum\n",
        "        return pi\n",
        "\n",
        "    def policy(self) -> int:\n",
        "        pi = self.pi\n",
        "        return random.choices(\n",
        "            list(range(self.n_arms)),\n",
        "            [pi[x] for x in range(self.n_arms)],\n",
        "            k=1,\n",
        "        )[0]\n",
        "\n",
        "    def update(self, action: int, reward: float) -> None:\n",
        "        pi = self.pi\n",
        "        for a in range(self.n_arms):\n",
        "            if a == action:\n",
        "                self.h[a] = self.h[a] + self.lr * reward * (1 - pi[a])\n",
        "            else:\n",
        "                self.h[a] = self.h[a] - self.lr * reward * pi[a]"
      ]
    },
    {
      "cell_type": "code",
      "execution_count": null,
      "id": "8d6ab57a-e580-46e7-b9bd-e67b6948aef6",
      "metadata": {
        "id": "8d6ab57a-e580-46e7-b9bd-e67b6948aef6"
      },
      "outputs": [],
      "source": [
        "# Complete UCBAgent implementation\n",
        "class UCBAgent(Agent):\n",
        "    def __init__(self, n_arms: int, c: float = math.sqrt(2)):\n",
        "        super().__init__(n_arms)\n",
        "        self.c = c\n",
        "        self.action_counts = {a: 0 for a in range(n_arms)}\n",
        "        self.action_values = {a: 0.0 for a in range(n_arms)}\n",
        "        self.total_steps = 0\n",
        "\n",
        "    def policy(self) -> int:\n",
        "        self.total_steps += 1\n",
        "\n",
        "        # Initial exploration: try each arm at least once\n",
        "        for action in range(self.n_arms):\n",
        "            if self.action_counts[action] == 0:\n",
        "                return action\n",
        "\n",
        "        # Calculate UCB values for all arms\n",
        "        ucb_values = {\n",
        "            a: self.action_values[a] + self.c * math.sqrt(math.log(self.total_steps)/self.action_counts[a])\n",
        "            for a in range(self.n_arms)\n",
        "        }\n",
        "        return max(ucb_values, key=lambda x: ucb_values[x])\n",
        "\n",
        "    def update(self, action: int, reward: float) -> None:\n",
        "        self.action_counts[action] += 1\n",
        "        n = self.action_counts[action]\n",
        "        self.action_values[action] += (reward - self.action_values[action]) / n"
      ]
    },
    {
      "cell_type": "markdown",
      "id": "491e8e79-9699-4049-839e-859b4405052b",
      "metadata": {
        "id": "491e8e79-9699-4049-839e-859b4405052b"
      },
      "source": [
        "## Utils"
      ]
    },
    {
      "cell_type": "code",
      "execution_count": null,
      "id": "701a0507-bc69-4339-bd8c-96eb3fe9719c",
      "metadata": {
        "tags": [],
        "id": "701a0507-bc69-4339-bd8c-96eb3fe9719c"
      },
      "outputs": [],
      "source": [
        "def play_game(\n",
        "    env: MultiArmedBandit,\n",
        "    agent: Agent,\n",
        "    number_of_iterations: int = NUMBER_OF_ITERATIONS,\n",
        "):\n",
        "    for _ in range(number_of_iterations):\n",
        "        action = agent.policy()\n",
        "        reward = env.get_reward(action)\n",
        "        regret = env.get_regret(action)\n",
        "        agent.update(action=action, reward=reward)\n",
        "        agent.update_regret_history(regret=regret)"
      ]
    },
    {
      "cell_type": "markdown",
      "id": "19acb764-d718-493c-a58e-e554ca25400c",
      "metadata": {
        "id": "19acb764-d718-493c-a58e-e554ca25400c"
      },
      "source": [
        "## Play Game"
      ]
    },
    {
      "cell_type": "code",
      "execution_count": null,
      "id": "31ffe9d3-f356-4789-b6b9-2c43f45fddc4",
      "metadata": {
        "tags": [],
        "id": "31ffe9d3-f356-4789-b6b9-2c43f45fddc4"
      },
      "outputs": [],
      "source": [
        "env = MultiArmedBandit(n_arms=N_ARMS)\n",
        "greedy_agent = GreedyAgent(\n",
        "    n_arms=N_ARMS,\n",
        "    initial_observation_per_action=INITIAL_OBSERVATION_PER_ACTION,\n",
        ")\n",
        "epsilon_greedy_agent = EpsilonGreedyAgent(\n",
        "    n_arms=N_ARMS,\n",
        "    initial_observation_per_action=INITIAL_OBSERVATION_PER_ACTION,\n",
        "    epsilon=EPSILON,\n",
        ")\n",
        "policy_gradient_agent = PolicyGradientAgent(\n",
        "    n_arms=N_ARMS,\n",
        "    lr=LEARNING_RATE,\n",
        ")\n",
        "ucb_agent = UCBAgent(\n",
        "    n_arms=N_ARMS,\n",
        "    c=math.sqrt(2)\n",
        ")"
      ]
    },
    {
      "cell_type": "code",
      "execution_count": null,
      "id": "78c5a904-d9c7-442c-8294-7fc9e94c0d72",
      "metadata": {
        "tags": [],
        "id": "78c5a904-d9c7-442c-8294-7fc9e94c0d72"
      },
      "outputs": [],
      "source": [
        "play_game(\n",
        "    env=env,\n",
        "    agent=greedy_agent,\n",
        ")\n",
        "\n",
        "play_game(\n",
        "    env=env,\n",
        "    agent=epsilon_greedy_agent,\n",
        ")\n",
        "\n",
        "play_game(\n",
        "    env=env,\n",
        "    agent=policy_gradient_agent,\n",
        ")\n",
        "\n",
        "play_game(\n",
        "    env=env,\n",
        "    agent=ucb_agent,\n",
        ")"
      ]
    },
    {
      "cell_type": "markdown",
      "id": "0efce4b0-c691-4c31-8355-5553e682e309",
      "metadata": {
        "id": "0efce4b0-c691-4c31-8355-5553e682e309"
      },
      "source": [
        "## Regret Analysis"
      ]
    },
    {
      "cell_type": "code",
      "execution_count": null,
      "id": "0843e741-9140-43bc-88b2-638d6592697c",
      "metadata": {
        "tags": [],
        "colab": {
          "base_uri": "https://localhost:8080/",
          "height": 564
        },
        "id": "0843e741-9140-43bc-88b2-638d6592697c",
        "outputId": "4f5f55a9-bc79-4a00-ac0c-0086116eece3"
      },
      "outputs": [
        {
          "output_type": "display_data",
          "data": {
            "text/plain": [
              "<Figure size 1000x600 with 1 Axes>"
            ],
            "image/png": "[encoded data removed]"
          },
          "metadata": {}
        }
      ],
      "source": [
        "plt.figure(figsize=(10, 6))\n",
        "plt.plot(\n",
        "    list(range(len(greedy_agent.total_regret_histroy))),\n",
        "    greedy_agent.total_regret_histroy,\n",
        "    label=\"Greedy Agent\",\n",
        "    color=\"red\",\n",
        ")\n",
        "\n",
        "plt.plot(\n",
        "    list(range(len(epsilon_greedy_agent.total_regret_histroy))),\n",
        "    epsilon_greedy_agent.total_regret_histroy,\n",
        "    label=\"Epsilon Greedy Agent\",\n",
        "    color=\"blue\",\n",
        ")\n",
        "\n",
        "plt.plot(\n",
        "    list(range(len(policy_gradient_agent.total_regret_histroy))),\n",
        "    policy_gradient_agent.total_regret_histroy,\n",
        "    label=\"Policy Gradient Agent\",\n",
        "    color=\"orange\",\n",
        ")\n",
        "\n",
        "plt.plot(\n",
        "    list(range(len(ucb_agent.total_regret_histroy))),\n",
        "    ucb_agent.total_regret_histroy,\n",
        "    label=\"UCB Agent\",\n",
        "    color=\"green\",\n",
        ")\n",
        "\n",
        "plt.xlabel(\"Itration\")\n",
        "plt.ylabel(\"Total Regret\")\n",
        "plt.title(\"Total Regret per Iteration\")\n",
        "plt.grid(alpha=0.3)\n",
        "plt.legend()\n",
        "plt.show()"
      ]
    },
    {
      "cell_type": "code",
      "source": [],
      "metadata": {
        "id": "jl3XTdKK-_3O"
      },
      "id": "jl3XTdKK-_3O",
      "execution_count": null,
      "outputs": []
    }
  ],
  "metadata": {
    "kernelspec": {
      "display_name": "Python 3 (ipykernel)",
      "language": "python",
      "name": "python3"
    },
    "language_info": {
      "codemirror_mode": {
        "name": "ipython",
        "version": 3
      },
      "file_extension": ".py",
      "mimetype": "text/x-python",
      "name": "python",
      "nbconvert_exporter": "python",
      "pygments_lexer": "ipython3",
      "version": "3.9.13"
    },
    "colab": {
      "provenance": [],
      "include_colab_link": true
    }
  },
  "nbformat": 4,
  "nbformat_minor": 5
}